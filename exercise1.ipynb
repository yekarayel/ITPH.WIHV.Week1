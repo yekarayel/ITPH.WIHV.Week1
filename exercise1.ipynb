{
 "cells": [
  {
   "cell_type": "code",
   "execution_count": 2,
   "metadata": {},
   "outputs": [
    {
     "name": "stdout",
     "output_type": "stream",
     "text": [
      "18.30576947355132\n"
     ]
    },
    {
     "data": {
      "text/plain": [
       "float"
      ]
     },
     "execution_count": 2,
     "metadata": {},
     "output_type": "execute_result"
    }
   ],
   "source": [
    "#Calculate Body Mass Index\n",
    "height = 1.78\n",
    "weight = 58\n",
    "\n",
    "BMI = weight / height**2\n",
    "print(BMI)\n",
    "type(BMI)\n"
   ]
  },
  {
   "cell_type": "code",
   "execution_count": 7,
   "metadata": {},
   "outputs": [
    {
     "name": "stdout",
     "output_type": "stream",
     "text": [
      "5\n",
      "100\n",
      "5\n",
      "100\n"
     ]
    }
   ],
   "source": [
    "#Write a program to use the same function two times\n",
    "def print_numbers():\n",
    "    print(5)\n",
    "    print(100)\n",
    "\n",
    "print_numbers()\n",
    "print_numbers()"
   ]
  },
  {
   "cell_type": "code",
   "execution_count": 12,
   "metadata": {},
   "outputs": [
    {
     "name": "stdout",
     "output_type": "stream",
     "text": [
      "Congratulations, PASS\n"
     ]
    }
   ],
   "source": [
    "#2. Write a program to check if the student passed or failed his/her examination by creating a function.\n",
    "\n",
    "score = int(input(\"Enter your exam score: \"))\n",
    "\n",
    "def checkMarks(score):\n",
    "    if score >=70:\n",
    "        print(\"Congratulations, PASS\")\n",
    "    else:\n",
    "        print(\"Sorry, FAIL\")\n",
    "\n",
    "checkMarks(score)"
   ]
  },
  {
   "cell_type": "code",
   "execution_count": null,
   "metadata": {},
   "outputs": [],
   "source": []
  }
 ],
 "metadata": {
  "kernelspec": {
   "display_name": "Python 3",
   "language": "python",
   "name": "python3"
  },
  "language_info": {
   "codemirror_mode": {
    "name": "ipython",
    "version": 3
   },
   "file_extension": ".py",
   "mimetype": "text/x-python",
   "name": "python",
   "nbconvert_exporter": "python",
   "pygments_lexer": "ipython3",
   "version": "3.11.3"
  },
  "orig_nbformat": 4
 },
 "nbformat": 4,
 "nbformat_minor": 2
}
